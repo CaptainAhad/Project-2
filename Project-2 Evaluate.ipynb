{
 "cells": [
  {
   "cell_type": "code",
   "execution_count": 14,
   "metadata": {},
   "outputs": [],
   "source": [
    "import pandas as pd\n",
    "import tensorflow as tf\n",
    "import numpy as np\n",
    "from tensorflow import keras\n",
    "import glob\n",
    "import pathlib\n",
    "import matplotlib.pyplot as plt\n",
    "from tensorflow.keras.preprocessing import image_dataset_from_directory\n",
    "from tensorflow.keras.callbacks import LearningRateScheduler\n",
    "from keras.utils import load_img, img_to_array\n",
    "import os as os "
   ]
  },
  {
   "cell_type": "code",
   "execution_count": 24,
   "metadata": {},
   "outputs": [],
   "source": [
    "#Define the shape for the test inputs\n",
    "\n",
    "image_size = (100, 100)\n",
    "input_shape = (None,) + image_size + (3,)\n",
    "batch_size = 32"
   ]
  },
  {
   "cell_type": "code",
   "execution_count": 16,
   "metadata": {},
   "outputs": [],
   "source": [
    "#Loading the test data\n",
    "test_dir = pathlib.Path('Data/test')"
   ]
  },
  {
   "cell_type": "code",
   "execution_count": 25,
   "metadata": {},
   "outputs": [
    {
     "name": "stdout",
     "output_type": "stream",
     "text": [
      "Found 539 files belonging to 3 classes.\n"
     ]
    }
   ],
   "source": [
    "#Creating the test dataset\n",
    "\n",
    "test_ds = image_dataset_from_directory(\n",
    "    test_dir, \n",
    "    image_size=image_size,\n",
    "    batch_size=batch_size,\n",
    "    label_mode='categorical',\n",
    "    seed = 42,\n",
    ")"
   ]
  },
  {
   "cell_type": "code",
   "execution_count": 33,
   "metadata": {},
   "outputs": [
    {
     "name": "stdout",
     "output_type": "stream",
     "text": [
      "Model: \"sequential_16\"\n",
      "_________________________________________________________________\n",
      " Layer (type)                Output Shape              Param #   \n",
      "=================================================================\n",
      " sequential_11 (Sequential)  (None, 100, 100, 3)       0         \n",
      "                                                                 \n",
      " conv2d_40 (Conv2D)          (None, 100, 100, 64)      1792      \n",
      "                                                                 \n",
      " batch_normalization_40 (Bat  (None, 100, 100, 64)     256       \n",
      " chNormalization)                                                \n",
      "                                                                 \n",
      " re_lu_40 (ReLU)             (None, 100, 100, 64)      0         \n",
      "                                                                 \n",
      " max_pooling2d_40 (MaxPoolin  (None, 50, 50, 64)       0         \n",
      " g2D)                                                            \n",
      "                                                                 \n",
      " conv2d_41 (Conv2D)          (None, 50, 50, 128)       32896     \n",
      "                                                                 \n",
      " batch_normalization_41 (Bat  (None, 50, 50, 128)      512       \n",
      " chNormalization)                                                \n",
      "                                                                 \n",
      " re_lu_41 (ReLU)             (None, 50, 50, 128)       0         \n",
      "                                                                 \n",
      " max_pooling2d_41 (MaxPoolin  (None, 25, 25, 128)      0         \n",
      " g2D)                                                            \n",
      "                                                                 \n",
      " conv2d_42 (Conv2D)          (None, 25, 25, 128)       65664     \n",
      "                                                                 \n",
      " batch_normalization_42 (Bat  (None, 25, 25, 128)      512       \n",
      " chNormalization)                                                \n",
      "                                                                 \n",
      " re_lu_42 (ReLU)             (None, 25, 25, 128)       0         \n",
      "                                                                 \n",
      " max_pooling2d_42 (MaxPoolin  (None, 12, 12, 128)      0         \n",
      " g2D)                                                            \n",
      "                                                                 \n",
      " conv2d_43 (Conv2D)          (None, 12, 12, 512)       262656    \n",
      "                                                                 \n",
      " batch_normalization_43 (Bat  (None, 12, 12, 512)      2048      \n",
      " chNormalization)                                                \n",
      "                                                                 \n",
      " re_lu_43 (ReLU)             (None, 12, 12, 512)       0         \n",
      "                                                                 \n",
      " max_pooling2d_43 (MaxPoolin  (None, 6, 6, 512)        0         \n",
      " g2D)                                                            \n",
      "                                                                 \n",
      " conv2d_44 (Conv2D)          (None, 6, 6, 512)         1049088   \n",
      "                                                                 \n",
      " dropout_24 (Dropout)        (None, 6, 6, 512)         0         \n",
      "                                                                 \n",
      " batch_normalization_44 (Bat  (None, 6, 6, 512)        2048      \n",
      " chNormalization)                                                \n",
      "                                                                 \n",
      " re_lu_44 (ReLU)             (None, 6, 6, 512)         0         \n",
      "                                                                 \n",
      " max_pooling2d_44 (MaxPoolin  (None, 3, 3, 512)        0         \n",
      " g2D)                                                            \n",
      "                                                                 \n",
      " flatten_8 (Flatten)         (None, 4608)              0         \n",
      "                                                                 \n",
      " dropout_25 (Dropout)        (None, 4608)              0         \n",
      "                                                                 \n",
      " dense_16 (Dense)            (None, 32)                147488    \n",
      "                                                                 \n",
      " dropout_26 (Dropout)        (None, 32)                0         \n",
      "                                                                 \n",
      " dense_17 (Dense)            (None, 3)                 99        \n",
      "                                                                 \n",
      "=================================================================\n",
      "Total params: 1,565,059\n",
      "Trainable params: 1,562,371\n",
      "Non-trainable params: 2,688\n",
      "_________________________________________________________________\n"
     ]
    }
   ],
   "source": [
    "#Loading trained model\n",
    "final_model = keras.models.load_model('increased_shape.keras')\n",
    "\n",
    "final_model.summary()"
   ]
  },
  {
   "cell_type": "code",
   "execution_count": 34,
   "metadata": {},
   "outputs": [
    {
     "name": "stdout",
     "output_type": "stream",
     "text": [
      "17/17 [==============================] - 2s 111ms/step - loss: 0.4632 - accuracy: 0.8571\n"
     ]
    },
    {
     "data": {
      "text/plain": [
       "[0.46320730447769165, 0.8571428656578064]"
      ]
     },
     "execution_count": 34,
     "metadata": {},
     "output_type": "execute_result"
    }
   ],
   "source": [
    "#Evaluating model on test set\n",
    "\n",
    "final_model.evaluate(test_ds)"
   ]
  },
  {
   "cell_type": "code",
   "execution_count": 35,
   "metadata": {},
   "outputs": [
    {
     "name": "stdout",
     "output_type": "stream",
     "text": [
      "['crack', 'missing-head', 'paint-off']\n"
     ]
    }
   ],
   "source": [
    "#Extract class names for sample predictions\n",
    "\n",
    "class_names = test_ds.class_names\n",
    "\n",
    "print(class_names)"
   ]
  },
  {
   "cell_type": "code",
   "execution_count": 36,
   "metadata": {},
   "outputs": [],
   "source": [
    "#Loading the specified test samples\n",
    "\n",
    "img_paths = ['Data/test/crack/test_crack.jpg', \n",
    "            'Data/test/missing-head/test_missinghead.jpg',\n",
    "            'Data/test/paint-off/test_paintoff.jpg' \n",
    "]\n",
    "\n",
    "test_imgs = []\n",
    "\n",
    "for img in img_paths:\n",
    "    img_array = img_to_array(load_img(img, target_size=image_size))\n",
    "    img_batch = np.expand_dims(img_array, axis=0)\n",
    "    test_imgs.append(img_batch)"
   ]
  },
  {
   "cell_type": "code",
   "execution_count": 37,
   "metadata": {},
   "outputs": [
    {
     "name": "stdout",
     "output_type": "stream",
     "text": [
      "1/1 [==============================] - 0s 200ms/step\n",
      "[[0.6489233  0.07001609 0.28106055]]\n",
      "1/1 [==============================] - 0s 32ms/step\n",
      "[[8.6857661e-05 9.9990106e-01 1.1982223e-05]]\n",
      "1/1 [==============================] - 0s 31ms/step\n",
      "[[0.02560018 0.00960403 0.96479577]]\n"
     ]
    }
   ],
   "source": [
    "#Making predictions on the sample images\n",
    "\n",
    "for img in test_imgs:\n",
    "    print(final_model.predict(img))"
   ]
  }
 ],
 "metadata": {
  "kernelspec": {
   "display_name": "tf",
   "language": "python",
   "name": "python3"
  },
  "language_info": {
   "codemirror_mode": {
    "name": "ipython",
    "version": 3
   },
   "file_extension": ".py",
   "mimetype": "text/x-python",
   "name": "python",
   "nbconvert_exporter": "python",
   "pygments_lexer": "ipython3",
   "version": "3.10.13"
  }
 },
 "nbformat": 4,
 "nbformat_minor": 2
}
