{
 "cells": [
  {
   "cell_type": "code",
   "execution_count": 10,
   "metadata": {},
   "outputs": [],
   "source": [
    "import pandas as pd\n",
    "import tensorflow as tf\n",
    "import numpy as np\n",
    "from tensorflow import keras\n",
    "import glob\n",
    "import pathlib\n",
    "import matplotlib.pyplot as plt\n",
    "from tensorflow.keras.preprocessing import image_dataset_from_directory\n",
    "from tensorflow.keras.callbacks import LearningRateScheduler\n",
    "from keras.utils import load_img, img_to_array\n",
    "import os as os "
   ]
  },
  {
   "cell_type": "code",
   "execution_count": 2,
   "metadata": {},
   "outputs": [],
   "source": [
    "#Define the shape for the test inputs\n",
    "\n",
    "image_size = (50, 50)\n",
    "input_shape = (None,) + image_size + (3,)\n",
    "batch_size = 32"
   ]
  },
  {
   "cell_type": "code",
   "execution_count": 3,
   "metadata": {},
   "outputs": [],
   "source": [
    "#Loading the test data\n",
    "test_dir = pathlib.Path('Data/test')"
   ]
  },
  {
   "cell_type": "code",
   "execution_count": 4,
   "metadata": {},
   "outputs": [
    {
     "name": "stdout",
     "output_type": "stream",
     "text": [
      "Found 539 files belonging to 3 classes.\n"
     ]
    }
   ],
   "source": [
    "#Creating the test dataset\n",
    "\n",
    "test_ds = image_dataset_from_directory(\n",
    "    test_dir, \n",
    "    image_size=image_size,\n",
    "    batch_size=batch_size,\n",
    "    label_mode='categorical',\n",
    "    seed = 42,\n",
    ")"
   ]
  },
  {
   "cell_type": "code",
   "execution_count": 5,
   "metadata": {},
   "outputs": [
    {
     "name": "stdout",
     "output_type": "stream",
     "text": [
      "Model: \"sequential_30\"\n",
      "_________________________________________________________________\n",
      " Layer (type)                Output Shape              Param #   \n",
      "=================================================================\n",
      " sequential_20 (Sequential)  (None, None, None, 3)     0         \n",
      "                                                                 \n",
      " conv2d_110 (Conv2D)         (None, 50, 50, 128)       3584      \n",
      "                                                                 \n",
      " batch_normalization_110 (Ba  (None, 50, 50, 128)      512       \n",
      " tchNormalization)                                               \n",
      "                                                                 \n",
      " re_lu_110 (ReLU)            (None, 50, 50, 128)       0         \n",
      "                                                                 \n",
      " max_pooling2d_110 (MaxPooli  (None, 25, 25, 128)      0         \n",
      " ng2D)                                                           \n",
      "                                                                 \n",
      " conv2d_111 (Conv2D)         (None, 25, 25, 128)       65664     \n",
      "                                                                 \n",
      " batch_normalization_111 (Ba  (None, 25, 25, 128)      512       \n",
      " tchNormalization)                                               \n",
      "                                                                 \n",
      " re_lu_111 (ReLU)            (None, 25, 25, 128)       0         \n",
      "                                                                 \n",
      " max_pooling2d_111 (MaxPooli  (None, 12, 12, 128)      0         \n",
      " ng2D)                                                           \n",
      "                                                                 \n",
      " conv2d_112 (Conv2D)         (None, 12, 12, 128)       65664     \n",
      "                                                                 \n",
      " batch_normalization_112 (Ba  (None, 12, 12, 128)      512       \n",
      " tchNormalization)                                               \n",
      "                                                                 \n",
      " re_lu_112 (ReLU)            (None, 12, 12, 128)       0         \n",
      "                                                                 \n",
      " max_pooling2d_112 (MaxPooli  (None, 6, 6, 128)        0         \n",
      " ng2D)                                                           \n",
      "                                                                 \n",
      " conv2d_113 (Conv2D)         (None, 6, 6, 256)         131328    \n",
      "                                                                 \n",
      " batch_normalization_113 (Ba  (None, 6, 6, 256)        1024      \n",
      " tchNormalization)                                               \n",
      "                                                                 \n",
      " re_lu_113 (ReLU)            (None, 6, 6, 256)         0         \n",
      "                                                                 \n",
      " max_pooling2d_113 (MaxPooli  (None, 3, 3, 256)        0         \n",
      " ng2D)                                                           \n",
      "                                                                 \n",
      " conv2d_114 (Conv2D)         (None, 3, 3, 256)         262400    \n",
      "                                                                 \n",
      " dropout_38 (Dropout)        (None, 3, 3, 256)         0         \n",
      "                                                                 \n",
      " batch_normalization_114 (Ba  (None, 3, 3, 256)        1024      \n",
      " tchNormalization)                                               \n",
      "                                                                 \n",
      " re_lu_114 (ReLU)            (None, 3, 3, 256)         0         \n",
      "                                                                 \n",
      " max_pooling2d_114 (MaxPooli  (None, 1, 1, 256)        0         \n",
      " ng2D)                                                           \n",
      "                                                                 \n",
      " flatten_22 (Flatten)        (None, 256)               0         \n",
      "                                                                 \n",
      " dropout_39 (Dropout)        (None, 256)               0         \n",
      "                                                                 \n",
      " dense_44 (Dense)            (None, 16)                4112      \n",
      "                                                                 \n",
      " dropout_40 (Dropout)        (None, 16)                0         \n",
      "                                                                 \n",
      " dense_45 (Dense)            (None, 3)                 51        \n",
      "                                                                 \n",
      "=================================================================\n",
      "Total params: 536,387\n",
      "Trainable params: 534,595\n",
      "Non-trainable params: 1,792\n",
      "_________________________________________________________________\n"
     ]
    }
   ],
   "source": [
    "#Loading trained model\n",
    "final_model = keras.models.load_model('shape_50_loss_0.6965.keras')\n",
    "\n",
    "final_model.summary()"
   ]
  },
  {
   "cell_type": "code",
   "execution_count": 6,
   "metadata": {},
   "outputs": [
    {
     "name": "stdout",
     "output_type": "stream",
     "text": [
      "17/17 [==============================] - 1s 39ms/step - loss: 0.6549 - accuracy: 0.8219\n"
     ]
    },
    {
     "data": {
      "text/plain": [
       "[0.654863178730011, 0.8218923807144165]"
      ]
     },
     "execution_count": 6,
     "metadata": {},
     "output_type": "execute_result"
    }
   ],
   "source": [
    "#Evaluating model on test set\n",
    "\n",
    "final_model.evaluate(test_ds)"
   ]
  },
  {
   "cell_type": "code",
   "execution_count": 27,
   "metadata": {},
   "outputs": [
    {
     "name": "stdout",
     "output_type": "stream",
     "text": [
      "['crack', 'missing-head', 'paint-off']\n"
     ]
    }
   ],
   "source": [
    "#Extract class names for sample predictions\n",
    "\n",
    "class_names = test_ds.class_names\n",
    "\n",
    "print(class_names)"
   ]
  },
  {
   "cell_type": "code",
   "execution_count": null,
   "metadata": {},
   "outputs": [
    {
     "name": "stdout",
     "output_type": "stream",
     "text": [
      "1/1 [==============================] - 0s 27ms/step\n",
      "[[0.7599716  0.0013478  0.23868051]]\n",
      "1/1 [==============================] - 0s 30ms/step\n",
      "[[3.1379994e-03 9.9678075e-01 8.1244456e-05]]\n",
      "1/1 [==============================] - 0s 29ms/step\n",
      "[[0.5625331  0.04314182 0.39432508]]\n"
     ]
    }
   ],
   "source": [
    "#Loading the specified test samples\n",
    "\n",
    "img_paths = ['Data/test/crack/test_crack.jpg', \n",
    "            'Data/test/missing-head/test_missinghead.jpg',\n",
    "            'Data/test/paint-off/test_paintoff.jpg' \n",
    "]\n",
    "\n",
    "test_imgs = []\n",
    "\n",
    "for img in img_paths:\n",
    "    img_array = img_to_array(load_img(img, target_size=image_size))\n",
    "    img_batch = np.expand_dims(img_array, axis=0)\n",
    "    test_imgs.append(img_batch)"
   ]
  },
  {
   "cell_type": "code",
   "execution_count": 34,
   "metadata": {},
   "outputs": [
    {
     "name": "stdout",
     "output_type": "stream",
     "text": [
      "1/1 [==============================] - 0s 32ms/step\n",
      "[[0.7599716  0.0013478  0.23868051]]\n",
      "1/1 [==============================] - 0s 32ms/step\n",
      "[[3.1379994e-03 9.9678075e-01 8.1244456e-05]]\n",
      "1/1 [==============================] - 0s 30ms/step\n",
      "[[0.5625331  0.04314182 0.39432508]]\n"
     ]
    }
   ],
   "source": [
    "#Making predictions on the sample images\n",
    "\n",
    "for img in test_imgs:\n",
    "    print(final_model.predict(img))"
   ]
  }
 ],
 "metadata": {
  "kernelspec": {
   "display_name": "tf",
   "language": "python",
   "name": "python3"
  },
  "language_info": {
   "codemirror_mode": {
    "name": "ipython",
    "version": 3
   },
   "file_extension": ".py",
   "mimetype": "text/x-python",
   "name": "python",
   "nbconvert_exporter": "python",
   "pygments_lexer": "ipython3",
   "version": "3.10.13"
  }
 },
 "nbformat": 4,
 "nbformat_minor": 2
}
