{
 "cells": [
  {
   "cell_type": "code",
   "execution_count": 2,
   "metadata": {},
   "outputs": [],
   "source": [
    "import pandas as pd\n",
    "import tensorflow as tf\n",
    "import numpy as np\n",
    "from tensorflow import keras\n",
    "import glob\n",
    "import pathlib\n",
    "from PIL import Image\n",
    "import matplotlib.pyplot as plt\n",
    "from tensorflow.keras.preprocessing import image_dataset_from_directory\n",
    "from tensorflow.keras import layers\n",
    "from tensorflow.keras.callbacks import LearningRateScheduler"
   ]
  },
  {
   "cell_type": "code",
   "execution_count": 8,
   "metadata": {},
   "outputs": [],
   "source": [
    "#Define the shape for the test inputs\n",
    "\n",
    "image_size = (50, 50)\n",
    "input_shape = (None,) + image_size + (3,)\n",
    "batch_size = 32"
   ]
  },
  {
   "cell_type": "code",
   "execution_count": 3,
   "metadata": {},
   "outputs": [],
   "source": [
    "#Loading the test data\n",
    "test_dir = pathlib.Path('Data/test')"
   ]
  },
  {
   "cell_type": "code",
   "execution_count": 9,
   "metadata": {},
   "outputs": [
    {
     "name": "stdout",
     "output_type": "stream",
     "text": [
      "Found 539 files belonging to 3 classes.\n"
     ]
    }
   ],
   "source": [
    "#Creating the test dataset\n",
    "\n",
    "test_ds = image_dataset_from_directory(\n",
    "    test_dir, \n",
    "    image_size=image_size,\n",
    "    batch_size=batch_size,\n",
    "    label_mode='categorical',\n",
    "    seed = 42,\n",
    ")"
   ]
  },
  {
   "cell_type": "code",
   "execution_count": 11,
   "metadata": {},
   "outputs": [
    {
     "name": "stdout",
     "output_type": "stream",
     "text": [
      "Model: \"sequential_44\"\n",
      "_________________________________________________________________\n",
      " Layer (type)                Output Shape              Param #   \n",
      "=================================================================\n",
      " sequential_42 (Sequential)  (None, 50, 50, 3)         0         \n",
      "                                                                 \n",
      " conv2d_135 (Conv2D)         (None, 50, 50, 64)        1792      \n",
      "                                                                 \n",
      " batch_normalization_135 (Ba  (None, 50, 50, 64)       256       \n",
      " tchNormalization)                                               \n",
      "                                                                 \n",
      " re_lu_135 (ReLU)            (None, 50, 50, 64)        0         \n",
      "                                                                 \n",
      " max_pooling2d_135 (MaxPooli  (None, 25, 25, 64)       0         \n",
      " ng2D)                                                           \n",
      "                                                                 \n",
      " conv2d_136 (Conv2D)         (None, 25, 25, 128)       32896     \n",
      "                                                                 \n",
      " batch_normalization_136 (Ba  (None, 25, 25, 128)      512       \n",
      " tchNormalization)                                               \n",
      "                                                                 \n",
      " re_lu_136 (ReLU)            (None, 25, 25, 128)       0         \n",
      "                                                                 \n",
      " max_pooling2d_136 (MaxPooli  (None, 12, 12, 128)      0         \n",
      " ng2D)                                                           \n",
      "                                                                 \n",
      " conv2d_137 (Conv2D)         (None, 12, 12, 128)       65664     \n",
      "                                                                 \n",
      " batch_normalization_137 (Ba  (None, 12, 12, 128)      512       \n",
      " tchNormalization)                                               \n",
      "                                                                 \n",
      " re_lu_137 (ReLU)            (None, 12, 12, 128)       0         \n",
      "                                                                 \n",
      " max_pooling2d_137 (MaxPooli  (None, 6, 6, 128)        0         \n",
      " ng2D)                                                           \n",
      "                                                                 \n",
      " conv2d_138 (Conv2D)         (None, 6, 6, 256)         131328    \n",
      "                                                                 \n",
      " batch_normalization_138 (Ba  (None, 6, 6, 256)        1024      \n",
      " tchNormalization)                                               \n",
      "                                                                 \n",
      " re_lu_138 (ReLU)            (None, 6, 6, 256)         0         \n",
      "                                                                 \n",
      " max_pooling2d_138 (MaxPooli  (None, 3, 3, 256)        0         \n",
      " ng2D)                                                           \n",
      "                                                                 \n",
      " conv2d_139 (Conv2D)         (None, 3, 3, 256)         262400    \n",
      "                                                                 \n",
      " dropout_53 (Dropout)        (None, 3, 3, 256)         0         \n",
      "                                                                 \n",
      " batch_normalization_139 (Ba  (None, 3, 3, 256)        1024      \n",
      " tchNormalization)                                               \n",
      "                                                                 \n",
      " re_lu_139 (ReLU)            (None, 3, 3, 256)         0         \n",
      "                                                                 \n",
      " max_pooling2d_139 (MaxPooli  (None, 1, 1, 256)        0         \n",
      " ng2D)                                                           \n",
      "                                                                 \n",
      " flatten_27 (Flatten)        (None, 256)               0         \n",
      "                                                                 \n",
      " dropout_54 (Dropout)        (None, 256)               0         \n",
      "                                                                 \n",
      " dense_54 (Dense)            (None, 16)                4112      \n",
      "                                                                 \n",
      " dropout_55 (Dropout)        (None, 16)                0         \n",
      "                                                                 \n",
      " dense_55 (Dense)            (None, 3)                 51        \n",
      "                                                                 \n",
      "=================================================================\n",
      "Total params: 501,571\n",
      "Trainable params: 499,907\n",
      "Non-trainable params: 1,664\n",
      "_________________________________________________________________\n"
     ]
    }
   ],
   "source": [
    "#Loading trained model\n",
    "final_model = keras.models.load_model('shape_50_loss_0.6762.keras')\n",
    "\n",
    "final_model.summary()"
   ]
  },
  {
   "cell_type": "code",
   "execution_count": 12,
   "metadata": {},
   "outputs": [
    {
     "name": "stdout",
     "output_type": "stream",
     "text": [
      "17/17 [==============================] - 1s 26ms/step - loss: 0.6648 - accuracy: 0.7644\n"
     ]
    },
    {
     "data": {
      "text/plain": [
       "[0.6647627353668213, 0.7643784880638123]"
      ]
     },
     "execution_count": 12,
     "metadata": {},
     "output_type": "execute_result"
    }
   ],
   "source": [
    "#Evaluating model on test set\n",
    "\n",
    "final_model.evaluate(test_ds)"
   ]
  },
  {
   "cell_type": "code",
   "execution_count": null,
   "metadata": {},
   "outputs": [],
   "source": [
    "#Loading the specified test samples\n",
    "\n"
   ]
  }
 ],
 "metadata": {
  "kernelspec": {
   "display_name": "Python 3",
   "language": "python",
   "name": "python3"
  },
  "language_info": {
   "codemirror_mode": {
    "name": "ipython",
    "version": 3
   },
   "file_extension": ".py",
   "mimetype": "text/x-python",
   "name": "python",
   "nbconvert_exporter": "python",
   "pygments_lexer": "ipython3",
   "version": "3.10.5"
  }
 },
 "nbformat": 4,
 "nbformat_minor": 2
}
